{
 "cells": [
  {
   "cell_type": "code",
   "execution_count": 1,
   "id": "initial_id",
   "metadata": {
    "ExecuteTime": {
     "end_time": "2024-05-13T22:49:41.627983100Z",
     "start_time": "2024-05-13T22:49:41.073069200Z"
    }
   },
   "outputs": [
    {
     "data": {
      "application/vnd.jupyter.widget-view+json": {
       "model_id": "22438ac60e314026824ea05a9e10303c",
       "version_major": 2,
       "version_minor": 0
      },
      "text/plain": [
       "interactive(children=(FloatSlider(value=1.0, description='w1', max=2.0, min=-2.0), FloatSlider(value=1.0, desc…"
      ]
     },
     "execution_count": 1,
     "metadata": {},
     "output_type": "execute_result"
    }
   ],
   "source": [
    "%matplotlib inline\n",
    "import numpy as np\n",
    "import matplotlib.pyplot as plt\n",
    "from ipywidgets import interactive, widgets\n",
    "\n",
    "def plot_perceptron(w1, w2, b):\n",
    "    x1 = np.linspace(-10, 10, 100)\n",
    "    if w2 == 0:\n",
    "        w2 = 1e-10\n",
    "    x2 = -(w1 * x1 + b) / w2\n",
    "\n",
    "    fig, ax = plt.subplots(figsize=(5,5))\n",
    "    ax.plot(x1, x2, '-b', label='Gerade')  # Change line color to blue\n",
    "\n",
    "    # Fill positive side\n",
    "    if w2 > 0:\n",
    "        ax.fill_between(x1, x2, 10, color='red', alpha=0.1)  # Less alpha for lighter shadow\n",
    "    else:\n",
    "        ax.fill_between(x1, x2, -10, color='red', alpha=0.1)\n",
    "\n",
    "    # Fixed points coordinates\n",
    "    points = np.array([[-5, -5], [-5, 5], [5, -5], [5, 5]])\n",
    "    colors = []\n",
    "    coordinates_labels = []\n",
    "    logit_labels = []\n",
    "    markers = []\n",
    "    linewidths = []\n",
    "\n",
    "    # Calculate logit values and determine color and symbol\n",
    "    for (px, py) in points:\n",
    "        logit = w1 * px + w2 * py + b\n",
    "        if logit >= 0:\n",
    "            color = 'red'\n",
    "            marker = '+'\n",
    "            linewidth = 2\n",
    "        else:\n",
    "            color = 'green'\n",
    "            marker = 'o'\n",
    "            linewidth = 1\n",
    "        colors.append(color)\n",
    "        markers.append(marker)\n",
    "        linewidths.append(linewidth)\n",
    "        coordinates_labels.append(f'({px}, {py})')\n",
    "        logit_labels.append(f'Logit: {logit:.2f}')\n",
    "    \n",
    "    # Plot fixed points and labels\n",
    "    for idx, (px, py) in enumerate(points):\n",
    "        ax.plot(px, py, marker=markers[idx], color=colors[idx], markersize=10, markeredgewidth=linewidths[idx])\n",
    "        ax.text(px, py + 0.5, coordinates_labels[idx], fontsize=9, verticalalignment='bottom', horizontalalignment='center')\n",
    "        ax.text(px, py - 0.5, logit_labels[idx], fontsize=9, verticalalignment='top', horizontalalignment='center')\n",
    "\n",
    "    ax.set_title('Ein einziges Neuron')\n",
    "    ax.set_xlabel('$x_1$')\n",
    "    ax.set_ylabel('$x_2$')\n",
    "    ax.set_xlim([-10, 10])\n",
    "    ax.set_ylim([-10, 10])\n",
    "    ax.axhline(0, color='black',linewidth=0.5)\n",
    "    ax.axvline(0, color='black',linewidth=0.5)\n",
    "    ax.grid(True)\n",
    "    ax.legend(loc='upper right')\n",
    "    plt.show()\n",
    "\n",
    "interactive_plot = interactive(plot_perceptron, \n",
    "                               w1=widgets.FloatSlider(value=1.0, min=-2.0, max=2.0, step=0.1),\n",
    "                               w2=widgets.FloatSlider(value=1.0, min=-2.0, max=2.0, step=0.1),\n",
    "                               b=widgets.FloatSlider(value=0.0, min=-10.0, max=10.0, step=1.0))\n",
    "\n",
    "interactive_plot"
   ]
  }
 ],
 "metadata": {
  "kernelspec": {
   "display_name": "Python 3 (ipykernel)",
   "language": "python",
   "name": "python3"
  },
  "language_info": {
   "codemirror_mode": {
    "name": "ipython",
    "version": 3
   },
   "file_extension": ".py",
   "mimetype": "text/x-python",
   "name": "python",
   "nbconvert_exporter": "python",
   "pygments_lexer": "ipython3",
   "version": "3.11.8"
  }
 },
 "nbformat": 4,
 "nbformat_minor": 5
}
