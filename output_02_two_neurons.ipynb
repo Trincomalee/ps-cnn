{
 "cells": [
  {
   "cell_type": "code",
   "execution_count": 1,
   "id": "initial_id",
   "metadata": {
    "collapsed": true,
    "ExecuteTime": {
     "end_time": "2024-05-14T01:46:33.760772Z",
     "start_time": "2024-05-14T01:46:33.188272900Z"
    }
   },
   "outputs": [
    {
     "data": {
      "text/plain": "interactive(children=(FloatSlider(value=-0.5, description='w1_1', max=2.0, min=-2.0), FloatSlider(value=-0.5, …",
      "application/vnd.jupyter.widget-view+json": {
       "version_major": 2,
       "version_minor": 0,
       "model_id": "d36d9f7e746c495b937d4282d98278c3"
      }
     },
     "execution_count": 1,
     "metadata": {},
     "output_type": "execute_result"
    }
   ],
   "source": [
    "%matplotlib inline\n",
    "import numpy as np\n",
    "import matplotlib.pyplot as plt\n",
    "from ipywidgets import interactive, widgets\n",
    "\n",
    "\n",
    "\n",
    "\n",
    "def plot_perceptron(w1_1, w2_1, b_1, w1_2, w2_2, b_2):\n",
    "    x1 = np.linspace(-10, 10, 100)\n",
    "    if w2_1 == 0:\n",
    "        w2_1 = 1e-10\n",
    "    if w2_2 == 0:\n",
    "        w2_2 = 1e-10\n",
    "\n",
    "    x2_1 = -(w1_1 * x1 + b_1) / w2_1\n",
    "    x2_2 = -(w1_2 * x1 + b_2) / w2_2\n",
    "\n",
    "    fig, ax = plt.subplots(figsize=(5,5))\n",
    "    ax.plot(x1, x2_1, '-b', label='Gerade 1')  \n",
    "    ax.plot(x1, x2_2, '-g', label='Gerade 2')  \n",
    "\n",
    "    # Fill the intersection of the positive sides of both decision boundaries\n",
    "    if w2_1 > 0 and w2_2 > 0:\n",
    "        ax.fill_between(x1, np.maximum(x2_1, x2_2), 10, color='red', alpha=0.1)\n",
    "    elif w2_1 < 0 and w2_2 < 0:\n",
    "        ax.fill_between(x1, np.minimum(x2_1, x2_2), -10, color='red', alpha=0.1)\n",
    "    elif w2_1 > 0 and w2_2 < 0:\n",
    "        ax.fill_between(x1, x2_1, np.minimum(x2_2, 10), where=(x2_1 < x2_2), color='red', alpha=0.1)\n",
    "    else:\n",
    "        ax.fill_between(x1, x2_2, np.minimum(x2_1, 10), where=(x2_2 < x2_1), color='red', alpha=0.1)\n",
    "\n",
    "    # Fixed points coordinates\n",
    "    points = np.array([[-5, -5], [-5, 5], [5, -5], [5, 5]])\n",
    "    colors = []\n",
    "    coordinates_labels = []\n",
    "    logit_labels = []\n",
    "    markers = []\n",
    "    linewidths = []\n",
    "\n",
    "    # Calculate logit values and determine color and symbol\n",
    "    for (px, py) in points:\n",
    "        logit_1 = w1_1 * px + w2_1 * py + b_1\n",
    "        logit_2 = w1_2 * px + w2_2 * py + b_2\n",
    "        if logit_1 >= 0 and logit_2 >= 0:\n",
    "            color = 'red'\n",
    "            marker = '+'\n",
    "            linewidth = 2\n",
    "        else:\n",
    "            color = 'green'\n",
    "            marker = 'o'\n",
    "            linewidth = 1\n",
    "        colors.append(color)\n",
    "        markers.append(marker)\n",
    "        linewidths.append(linewidth)\n",
    "        coordinates_labels.append(f'({px}, {py})')\n",
    "        logit_labels.append(f'Logit1: {logit_1:.2f}\\nLogit2: {logit_2:.2f}')\n",
    "    \n",
    "    # Plot fixed points and labels\n",
    "    for idx, (px, py) in enumerate(points):\n",
    "        ax.plot(px, py, marker=markers[idx], color=colors[idx], markersize=10, markeredgewidth=linewidths[idx])\n",
    "        ax.text(px, py + 0.5, coordinates_labels[idx], fontsize=9, verticalalignment='bottom', horizontalalignment='center')\n",
    "        ax.text(px, py - 0.5, logit_labels[idx], fontsize=9, verticalalignment='top', horizontalalignment='center')\n",
    "\n",
    "    ax.set_title('Zwei Neuren, verbunden mit UND-Operation')\n",
    "    ax.set_xlabel('$x_1$')\n",
    "    ax.set_ylabel('$x_2$')\n",
    "    ax.set_xlim([-10, 10])\n",
    "    ax.set_ylim([-10, 10])\n",
    "    ax.axhline(0, color='black', linewidth=0.5)\n",
    "    ax.axvline(0, color='black', linewidth=0.5)\n",
    "    ax.grid(True)\n",
    "    ax.legend(loc='upper right')\n",
    "    plt.show()\n",
    "\n",
    "interactive_plot = interactive(plot_perceptron, \n",
    "                               w1_1=widgets.FloatSlider(value=-0.5, min=-2.0, max=2.0, step=0.1),\n",
    "                               w2_1=widgets.FloatSlider(value=-0.5, min=-2.0, max=2.0, step=0.1),\n",
    "                               b_1=widgets.FloatSlider(value=2, min=-10.0, max=10.0, step=0.1),\n",
    "                               w1_2=widgets.FloatSlider(value=0.5, min=-2.0, max=2.0, step=0.1),\n",
    "                               w2_2=widgets.FloatSlider(value=0.5, min=-2.0, max=2.0, step=0.1),\n",
    "                               b_2=widgets.FloatSlider(value=2, min=-10.0, max=10.0, step=0.1))\n",
    "\n",
    "interactive_plot\n"
   ]
  }
 ],
 "metadata": {
  "kernelspec": {
   "display_name": "Python 3",
   "language": "python",
   "name": "python3"
  },
  "language_info": {
   "codemirror_mode": {
    "name": "ipython",
    "version": 2
   },
   "file_extension": ".py",
   "mimetype": "text/x-python",
   "name": "python",
   "nbconvert_exporter": "python",
   "pygments_lexer": "ipython2",
   "version": "2.7.6"
  }
 },
 "nbformat": 4,
 "nbformat_minor": 5
}
