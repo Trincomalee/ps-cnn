{
 "cells": [
  {
   "cell_type": "code",
   "execution_count": 2,
   "id": "db7eb4ac7b325c4a",
   "metadata": {
    "collapsed": false,
    "ExecuteTime": {
     "end_time": "2024-05-20T21:15:16.030738800Z",
     "start_time": "2024-05-20T21:15:15.796198600Z"
    }
   },
   "outputs": [
    {
     "data": {
      "text/plain": "interactive(children=(FloatSlider(value=1.0, description='w1', max=2.0, min=-2.0), FloatSlider(value=1.2, desc…",
      "application/vnd.jupyter.widget-view+json": {
       "version_major": 2,
       "version_minor": 0,
       "model_id": "6c1f02b11f854912aaec76b7fe5d26d9"
      }
     },
     "execution_count": 2,
     "metadata": {},
     "output_type": "execute_result"
    }
   ],
   "source": [
    "%matplotlib inline\n",
    "import numpy as np\n",
    "import matplotlib.pyplot as plt\n",
    "from ipywidgets import interactive, widgets, VBox, Label\n",
    "\n",
    "def plot_perceptron(w1, w2, b):\n",
    "    x1 = np.linspace(-10, 10, 400)\n",
    "    x2 = np.linspace(-10, 10, 400)\n",
    "    X1, X2 = np.meshgrid(x1, x2)\n",
    "    \n",
    "    # 计算每个网格点的 logit 值\n",
    "    logit = w1 * X1 + w2 * X2 + b\n",
    "    \n",
    "    # 创建一个布尔数组，用于标记满足所有logit都为正的点\n",
    "    positive_region = (logit >= 0)\n",
    "    \n",
    "    \n",
    "    fig, ax = plt.subplots(figsize=(5, 5))\n",
    "    # 绘制直线\n",
    "    x1_plot = np.linspace(-10, 10, 100)\n",
    "    if w2 == 0:\n",
    "        w2 = 1e-10\n",
    "    \n",
    "    x2_plot = -(w1 * x1_plot + b) / w2\n",
    "    \n",
    "    ax.plot(x1_plot, x2_plot, '-b', label='Gerade')  \n",
    "    \n",
    "    \n",
    "    \n",
    "    # 绘制阴影区域\n",
    "    ax.contourf(X1, X2, positive_region, levels=[0.5, 1], colors=['red'], alpha=0.1)\n",
    "    \n",
    "    # 4个固定的点：\n",
    "    points = np.array([[-5, -5], [-5, 5], [5, -5], [5, 5]])\n",
    "    colors = []\n",
    "    coordinates_labels = []\n",
    "    logit_labels = []\n",
    "    markers = []\n",
    "    linewidths = []\n",
    "\n",
    "    # 计算4个点的logit值并确定颜色和符号\n",
    "    for (px, py) in points:\n",
    "        logit = w1 * px + w2 * py + b\n",
    "        \n",
    "        if logit >= 0:\n",
    "            color = 'red'\n",
    "            marker = '+'\n",
    "            linewidth = 2\n",
    "        else:\n",
    "            color = 'green'\n",
    "            marker = 'o'\n",
    "            linewidth = 1\n",
    "        colors.append(color)\n",
    "        markers.append(marker)\n",
    "        linewidths.append(linewidth)\n",
    "        coordinates_labels.append(f'({px}, {py})')\n",
    "        logit_labels.append(f'Logit: {logit:.2f}')\n",
    "    \n",
    "    # 绘制固定点和标签\n",
    "    for idx, (px, py) in enumerate(points):\n",
    "        ax.plot(px, py, marker=markers[idx], color=colors[idx], markersize=10, markeredgewidth=linewidths[idx])\n",
    "        ax.text(px, py + 0.5, coordinates_labels[idx], fontsize=9, verticalalignment='bottom', horizontalalignment='center')\n",
    "        ax.text(px, py - 0.5, logit_labels[idx], fontsize=9, verticalalignment='top', horizontalalignment='center')\n",
    "\n",
    "    ax.set_title('Ein einziges Neuron')\n",
    "    ax.set_xlabel('$x_1$')\n",
    "    ax.set_ylabel('$x_2$')\n",
    "    ax.set_xlim([-10, 10])\n",
    "    ax.set_ylim([-10, 10])\n",
    "    ax.axhline(0, color='black', linewidth=0.5)\n",
    "    ax.axvline(0, color='black', linewidth=0.5)\n",
    "    ax.grid(True)\n",
    "    ax.legend(loc='upper right')\n",
    "    plt.show()\n",
    "\n",
    "\n",
    "interactive_plot = interactive(plot_perceptron, \n",
    "                               w1=widgets.FloatSlider(value=1.0, min=-2.0, max=2.0, step=0.1),\n",
    "                               w2=widgets.FloatSlider(value=1.2, min=-2.0, max=2.0, step=0.1),\n",
    "                               b=widgets.FloatSlider(value=0.0, min=-10.0, max=10.0, step=0.1))\n",
    "\n",
    "interactive_plot"
   ]
  }
 ],
 "metadata": {
  "kernelspec": {
   "display_name": "Python 3 (ipykernel)",
   "language": "python",
   "name": "python3"
  },
  "language_info": {
   "codemirror_mode": {
    "name": "ipython",
    "version": 3
   },
   "file_extension": ".py",
   "mimetype": "text/x-python",
   "name": "python",
   "nbconvert_exporter": "python",
   "pygments_lexer": "ipython3",
   "version": "3.11.8"
  }
 },
 "nbformat": 4,
 "nbformat_minor": 5
}
